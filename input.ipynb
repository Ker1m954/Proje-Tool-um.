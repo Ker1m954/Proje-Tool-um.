{
 "cells": [
  {
   "cell_type": "code",
   "execution_count": null,
   "metadata": {},
   "outputs": [],
   "source": [
    "def main():\n",
    "    domain = input(\"Domain ismi giriniz: \").strip()\n",
    "    subdomains = fetch_subdomains(domain)"
   ]
  }
 ],
 "metadata": {
  "language_info": {
   "name": "python"
  }
 },
 "nbformat": 4,
 "nbformat_minor": 2
}
